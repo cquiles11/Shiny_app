{
 "cells": [
  {
   "cell_type": "code",
   "execution_count": null,
   "id": "2b22dd3f-bcb5-4d93-9af9-80ecf9044c85",
   "metadata": {},
   "outputs": [],
   "source": [
    "# First we open the libraries to use\n",
    "library(shiny)\n",
    "library(ggplot2)\n",
    "\n",
    "\n",
    "ui <- fluidpage(\n",
    "    # we generate the title linear model\n",
    "    titlePanel(\"Linear model\"),\n",
    "    # we can add the details that will control the data\n",
    "    sidebarLayout(\n",
    "        sidebarPanel(\n",
    "            sliderInputs(\"bins\",\n",
    "                         \"Numbers of bin:\",\n",
    "                         min = 1,\n",
    "                         max = 50, \n",
    "                         value = 30,)\n",
    "            ),\n",
    "        mainPanel(\n",
    "            tableOutput(\"contents\"),\n",
    "            plotOutput(\"distPlot\"),\n",
    "            )\n",
    "        )\n",
    "    )\n",
    "\n",
    "\n",
    "# Define the server to graph the linear model\n",
    "\n",
    "server <- function(input, output) { \n",
    "    output$displot <- renderPlot({\n",
    "        # generate bins based on input$bins from ui.R\n",
    "        x    <- faithful[, 2]\n",
    "        bins <- seq(min(x), max(x), length.out = input$bins + 1)\n",
    "\n",
    "        # draw the histogram with the specified number of bins\n",
    "        hist(x, breaks = bins, col = 'darkgray', border = 'white')\n",
    "    })\n",
    "}\n",
    "\n",
    "# Run the application \n",
    "shinyApp(ui = ui, server = server)"
   ]
  }
 ],
 "metadata": {
  "kernelspec": {
   "display_name": "R",
   "language": "R",
   "name": "ir"
  },
  "language_info": {
   "codemirror_mode": "r",
   "file_extension": ".r",
   "mimetype": "text/x-r-source",
   "name": "R",
   "pygments_lexer": "r",
   "version": "4.0.5"
  }
 },
 "nbformat": 4,
 "nbformat_minor": 5
}
